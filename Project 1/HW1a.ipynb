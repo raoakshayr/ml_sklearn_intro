{
 "cells": [
  {
   "cell_type": "code",
   "execution_count": 96,
   "metadata": {},
   "outputs": [
    {
     "name": "stdout",
     "output_type": "stream",
     "text": [
      "0.6666666666666666\n",
      "<class 'sympy.core.numbers.Float'>\n",
      "0.816496580927726\n"
     ]
    },
    {
     "data": {
      "text/plain": [
       "0.7928919108787373"
      ]
     },
     "execution_count": 96,
     "metadata": {},
     "output_type": "execute_result"
    }
   ],
   "source": [
    "import numpy as np\n",
    "from scipy import stats\n",
    "\n",
    "u0=np.array([0,0])\n",
    "u1=np.array([1,1])\n",
    "rho=2\n",
    "sigma=1\n",
    "Sigma=np.array([[sigma**2,(sigma**2)*rho],[(sigma**2)*rho,sigma**2]])\n",
    "q=np.linalg.inv(Sigma)\n",
    "d=(u1-u0).dot(q.dot(u1-u0))\n",
    "print(d)\n",
    "t=sqrt(d)\n",
    "print(type(t))\n",
    "print(t)\n",
    "stats.norm.cdf(float(t),loc=0.0, scale=1.0)\n",
    "\n"
   ]
  },
  {
   "cell_type": "code",
   "execution_count": null,
   "metadata": {},
   "outputs": [],
   "source": []
  },
  {
   "cell_type": "code",
   "execution_count": 83,
   "metadata": {},
   "outputs": [
    {
     "data": {
      "text/plain": [
       "array([0.33333333, 0.33333333])"
      ]
     },
     "execution_count": 83,
     "metadata": {},
     "output_type": "execute_result"
    }
   ],
   "source": []
  },
  {
   "cell_type": "code",
   "execution_count": 32,
   "metadata": {},
   "outputs": [
    {
     "name": "stdout",
     "output_type": "stream",
     "text": [
      "Matrix([[sigma**2, rho*sigma**2], [rho*sigma**2, sigma**2]])\n"
     ]
    },
    {
     "data": {
      "text/plain": [
       "Matrix([\n",
       "[     sigma**2/(-rho**2*sigma**4 + sigma**4), -rho*sigma**2/(-rho**2*sigma**4 + sigma**4)],\n",
       "[-rho*sigma**2/(-rho**2*sigma**4 + sigma**4),      sigma**2/(-rho**2*sigma**4 + sigma**4)]])"
      ]
     },
     "execution_count": 32,
     "metadata": {},
     "output_type": "execute_result"
    }
   ],
   "source": [
    "from sympy import*\n",
    "rho=symbols('rho')\n",
    "sigma=symbols('sigma')\n",
    "Sigma=Matrix([[sigma**2,(sigma**2)*rho],[(sigma**2)*rho,sigma**2]])\n",
    "print(Sigma)\n",
    "Sigma.inv()"
   ]
  },
  {
   "cell_type": "code",
   "execution_count": 57,
   "metadata": {},
   "outputs": [
    {
     "data": {
      "text/plain": [
       "array([sigma**2/(-rho**2*sigma**4 + sigma**4),\n",
       "       sigma**2/(-rho**2*sigma**4 + sigma**4)], dtype=object)"
      ]
     },
     "execution_count": 57,
     "metadata": {},
     "output_type": "execute_result"
    }
   ],
   "source": [
    "p=(u1-u0)*(Sigma.inv())*(u1-u0).T\n",
    "p[0,0]"
   ]
  },
  {
   "cell_type": "code",
   "execution_count": 64,
   "metadata": {},
   "outputs": [
    {
     "data": {
      "text/plain": [
       "Matrix([\n",
       "[          [sigma**2/(-rho**2*sigma**4 + sigma**4)\n",
       " sigma**2/(-rho**2*sigma**4 + sigma**4)], [-rho*sigma**2/(-rho**2*sigma**4 + sigma**4)\n",
       " -rho*sigma**2/(-rho**2*sigma**4 + sigma**4)]],\n",
       "[[-rho*sigma**2/(-rho**2*sigma**4 + sigma**4)\n",
       " -rho*sigma**2/(-rho**2*sigma**4 + sigma**4)],           [sigma**2/(-rho**2*sigma**4 + sigma**4)\n",
       " sigma**2/(-rho**2*sigma**4 + sigma**4)]]])"
      ]
     },
     "execution_count": 64,
     "metadata": {},
     "output_type": "execute_result"
    }
   ],
   "source": [
    "d=(u1-u0)*Sigma.inv()*(u1-u0).T\n",
    "rho=.5\n",
    "sigma=.5\n",
    "d\n"
   ]
  }
 ],
 "metadata": {
  "kernelspec": {
   "display_name": "Python 3",
   "language": "python",
   "name": "python3"
  },
  "language_info": {
   "codemirror_mode": {
    "name": "ipython",
    "version": 3
   },
   "file_extension": ".py",
   "mimetype": "text/x-python",
   "name": "python",
   "nbconvert_exporter": "python",
   "pygments_lexer": "ipython3",
   "version": "3.6.5"
  }
 },
 "nbformat": 4,
 "nbformat_minor": 2
}
