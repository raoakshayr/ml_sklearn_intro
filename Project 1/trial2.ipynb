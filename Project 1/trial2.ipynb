{
 "cells": [
  {
   "cell_type": "code",
   "execution_count": null,
   "metadata": {},
   "outputs": [],
   "source": [
    "import numpy as np\n",
    "from scipy import stats\n",
    "\n",
    "u0=np.array([0,0])\n",
    "u1=np.array([1,1])\n",
    "rhoarray=[]\n",
    "rhoarray=[0.4,0.6,0.8,1]\n",
    "sigmarr=np.linspace(.1,2,.1)\n",
    "for rho in rhoarray:\n",
    "    for sigma in sigmarr:\n",
    "        print(rho,sigma)\n",
    "        Sigma=np.array([[sigma**2,(sigma**2)*rho],[(sigma**2)*rho,sigma**2]])\n",
    "        q=np.linalg.inv(Sigma)\n",
    "        d=(u1-u0).dot(q.dot(u1-u0))\n",
    "        t=sqrt(d)\n",
    "        y=stats.norm.cdf(float(t),loc=0.0, scale=1.0)\n",
    "        plt.plot(x,y, color=\"black\")\n",
    "        plt.xlabel(\"Probability\")\n",
    "        plt.ylabel(\"Variate\")\n",
    "\n",
    "        plt.title(\"ISF for Gaussian of mean = {0} & std. deviation = {1}\".format(\n",
    "                   mean, std))\n",
    "        plt.show()\n",
    "\n"
   ]
  }
 ],
 "metadata": {
  "kernelspec": {
   "display_name": "Python 3",
   "language": "python",
   "name": "python3"
  },
  "language_info": {
   "codemirror_mode": {
    "name": "ipython",
    "version": 3
   },
   "file_extension": ".py",
   "mimetype": "text/x-python",
   "name": "python",
   "nbconvert_exporter": "python",
   "pygments_lexer": "ipython3",
   "version": "3.6.5"
  }
 },
 "nbformat": 4,
 "nbformat_minor": 2
}
