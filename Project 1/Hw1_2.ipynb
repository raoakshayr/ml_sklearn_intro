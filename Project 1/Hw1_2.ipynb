{
 "cells": [
  {
   "cell_type": "code",
   "execution_count": 129,
   "metadata": {},
   "outputs": [
    {
     "name": "stdout",
     "output_type": "stream",
     "text": [
      "Index(['C', 'N', 'P', 'S', 'V', 'Ni', 'Nb', 'Al', 'Ti', 'Fe', 'Hf', 'Mo', 'Mn',\n",
      "       'Co', 'Si', 'Cr', 'Cu', 'SFE'],\n",
      "      dtype='object')\n",
      "non zero ratio :  [0.89006342 0.60887949 0.36997886 0.40169133 0.00422833 0.75052854\n",
      " 0.01268499 0.09513742 0.01479915 1.         0.00211416 0.39957717\n",
      " 0.80338266 0.00634249 0.60887949 0.8372093  0.05496829 1.        ]\n",
      "8 18\n"
     ]
    }
   ],
   "source": [
    "import pandas as pd\n",
    "import numpy as np\n",
    "import matplotlib.pyplot as plt\n",
    "\n",
    "#import excel table\n",
    "SFE_data=pd.read_excel('SFE_Dataset.xlsx')\n",
    "col=SFE_data.columns\n",
    "print(col)\n",
    "\n",
    "#preprocessing\n",
    "\n",
    "#remove columns with zero elements\n",
    "\n",
    "nonzero_ratio=np.zeros(len(col))\n",
    "counter=0\n",
    "for col_i in col:\n",
    "    n_zeros=0\n",
    "    #print('column : ',col_i)\n",
    "    #import pdb; pdb.set_trace()\n",
    "    for j in range(0,len(SFE_data[col_i])):\n",
    "        if(SFE_data[col_i][j]==0):\n",
    "            n_zeros+=1\n",
    "    nonzero_ratio[counter]=1-n_zeros/len(SFE_data[col_i])\n",
    "    counter+=1\n",
    "print('non zero ratio : ',nonzero_ratio)\n",
    "\n",
    "\n",
    "drop_cols=[]\n",
    "for i in range(0,len(SFE_data.columns)-1):\n",
    "    if (nonzero_ratio[i]<.6):\n",
    "        #print('non zero ratio',nonzero_ratio[i])\n",
    "        drop_cols.append(col[i])\n",
    "\n",
    "SFE_data_cleancols=SFE_data.drop(drop_cols,axis=1)\n",
    "new_col=SFE_data_cleancols.columns\n",
    "print(len(new_col),len(col))\n",
    "#import pdb; pdb.set_trace()"
   ]
  },
  {
   "cell_type": "code",
   "execution_count": 130,
   "metadata": {},
   "outputs": [],
   "source": [
    "#SFE into high and low, remove rows\n",
    "\n",
    "#high and low SFE\n",
    "SFE=SFE_data_cleancols['SFE']\n",
    "non_SFE=[]\n",
    "for i in range(0,len(SFE)):\n",
    "    if(SFE[i]<=35):\n",
    "        SFE_data_cleancols['SFE'][i]=0\n",
    "    elif(SFE[i]>=45):\n",
    "        SFE_data_cleancols['SFE'][i]=1\n",
    "    elif(SFE[i]<45 and SFE[i]>35):\n",
    "        non_SFE.append(i)\n",
    "SFE_data_cleanrows=SFE_data_cleancols.drop(non_SFE)        \n",
    "SFE=SFE_data_cleanrows['SFE']\n",
    "#print(SFE)\n",
    "#SFE_data_cleanrows.head\n",
    "#SFE_data_cleancols.head\n",
    "#import pdb; pdb.set_trace()\n",
    "\n",
    "# for resetting the index after removing the columns or rows\n",
    "SFE_data_cleanrows=SFE_data_cleanrows.reset_index(drop=True)\n",
    "\n",
    "[m,n]=SFE_data_cleanrows.shape\n",
    "col=SFE_data_cleanrows.columns\n",
    "\n",
    "#clean rows that have any zeros\n",
    "zer=[]\n",
    "ncol=len(col)\n",
    "for i in range(0,m):\n",
    "    #import pdb; pdb.set_trace()\n",
    "    n_zeros=0\n",
    "    for j in range (0,ncol-1):\n",
    "        if(SFE_data_cleanrows.at[i, col[j]]==0):\n",
    "            n_zeros+=1\n",
    "    if(n_zeros>0):        \n",
    "        zer.append(i) \n",
    "        \n",
    "        \n",
    "#import pdb; pdb.set_trace()\n"
   ]
  },
  {
   "cell_type": "code",
   "execution_count": 131,
   "metadata": {},
   "outputs": [],
   "source": [
    "SFE_data_cleanrows2=SFE_data_cleanrows.drop(zer)\n",
    "# for resetting the index after removing the columns or rows\n",
    "SFE_data_cleanrows2=SFE_data_cleanrows2.reset_index(drop=True)\n"
   ]
  },
  {
   "cell_type": "code",
   "execution_count": 132,
   "metadata": {},
   "outputs": [],
   "source": [
    "# randomly sample into training data and then reject data with over 55% of any one\n",
    "[m,n]=SFE_data_cleanrows2.shape\n",
    "import random\n",
    "import time\n",
    "random.seed(time.time())\n",
    "okay_sample_flag=0\n",
    "while(okay_sample_flag==0):\n",
    "    train_set=SFE_data_cleanrows2.sample(frac=0.2,random_state=random.randint(1,100))\n",
    "    test_set=SFE_data_cleanrows2.drop(train_set.index)\n",
    "\n",
    "    train_set=train_set.reset_index(drop=True)\n",
    "    test_set=test_set.reset_index(drop=True)\n",
    "\n",
    "    #remove samples for more than 55%\n",
    "    n_ones=0\n",
    "    for i in range(0,len(train_set)):\n",
    "        if (train_set.at[i,'SFE']==1):\n",
    "            n_ones+=1\n",
    "    if(n_ones/len(train_set)>.45 and n_ones/len(train_set)<.55):\n",
    "        okay_sample_flag+=1\n",
    "#    import pdb; pdb.set_trace()\n"
   ]
  },
  {
   "cell_type": "code",
   "execution_count": 133,
   "metadata": {},
   "outputs": [
    {
     "data": {
      "text/html": [
       "<div>\n",
       "<style scoped>\n",
       "    .dataframe tbody tr th:only-of-type {\n",
       "        vertical-align: middle;\n",
       "    }\n",
       "\n",
       "    .dataframe tbody tr th {\n",
       "        vertical-align: top;\n",
       "    }\n",
       "\n",
       "    .dataframe thead th {\n",
       "        text-align: right;\n",
       "    }\n",
       "</style>\n",
       "<table border=\"1\" class=\"dataframe\">\n",
       "  <thead>\n",
       "    <tr style=\"text-align: right;\">\n",
       "      <th></th>\n",
       "      <th>C</th>\n",
       "      <th>N</th>\n",
       "      <th>Ni</th>\n",
       "      <th>Fe</th>\n",
       "      <th>Mn</th>\n",
       "      <th>Si</th>\n",
       "      <th>Cr</th>\n",
       "      <th>SFE</th>\n",
       "    </tr>\n",
       "  </thead>\n",
       "  <tbody>\n",
       "    <tr>\n",
       "      <th>0</th>\n",
       "      <td>0.019</td>\n",
       "      <td>0.0940</td>\n",
       "      <td>6.60</td>\n",
       "      <td>73.2370</td>\n",
       "      <td>1.61</td>\n",
       "      <td>0.480</td>\n",
       "      <td>17.60</td>\n",
       "      <td>0.0</td>\n",
       "    </tr>\n",
       "    <tr>\n",
       "      <th>1</th>\n",
       "      <td>0.070</td>\n",
       "      <td>0.5400</td>\n",
       "      <td>16.13</td>\n",
       "      <td>54.5700</td>\n",
       "      <td>9.64</td>\n",
       "      <td>0.450</td>\n",
       "      <td>18.48</td>\n",
       "      <td>1.0</td>\n",
       "    </tr>\n",
       "    <tr>\n",
       "      <th>2</th>\n",
       "      <td>0.002</td>\n",
       "      <td>0.0974</td>\n",
       "      <td>15.56</td>\n",
       "      <td>65.0561</td>\n",
       "      <td>0.01</td>\n",
       "      <td>0.030</td>\n",
       "      <td>16.95</td>\n",
       "      <td>1.0</td>\n",
       "    </tr>\n",
       "    <tr>\n",
       "      <th>3</th>\n",
       "      <td>0.002</td>\n",
       "      <td>0.0011</td>\n",
       "      <td>15.75</td>\n",
       "      <td>64.9895</td>\n",
       "      <td>0.02</td>\n",
       "      <td>0.003</td>\n",
       "      <td>16.95</td>\n",
       "      <td>1.0</td>\n",
       "    </tr>\n",
       "    <tr>\n",
       "      <th>4</th>\n",
       "      <td>0.003</td>\n",
       "      <td>0.0071</td>\n",
       "      <td>15.40</td>\n",
       "      <td>69.1557</td>\n",
       "      <td>0.03</td>\n",
       "      <td>0.020</td>\n",
       "      <td>13.09</td>\n",
       "      <td>1.0</td>\n",
       "    </tr>\n",
       "  </tbody>\n",
       "</table>\n",
       "</div>"
      ],
      "text/plain": [
       "       C       N     Ni       Fe    Mn     Si     Cr  SFE\n",
       "0  0.019  0.0940   6.60  73.2370  1.61  0.480  17.60  0.0\n",
       "1  0.070  0.5400  16.13  54.5700  9.64  0.450  18.48  1.0\n",
       "2  0.002  0.0974  15.56  65.0561  0.01  0.030  16.95  1.0\n",
       "3  0.002  0.0011  15.75  64.9895  0.02  0.003  16.95  1.0\n",
       "4  0.003  0.0071  15.40  69.1557  0.03  0.020  13.09  1.0"
      ]
     },
     "execution_count": 133,
     "metadata": {},
     "output_type": "execute_result"
    }
   ],
   "source": [
    "train_set.head()"
   ]
  },
  {
   "cell_type": "code",
   "execution_count": 134,
   "metadata": {},
   "outputs": [],
   "source": [
    "from scipy import stats\n",
    "\n",
    "col=train_set.columns\n",
    "\n",
    "ttest=[]\n",
    "for i in range (0,len(col)-1):\n",
    "    ttest.append([stats.ttest_ind(train_set[train_set['SFE']==0][col[i]], train_set[train_set['SFE']==1][col[i]],equal_var=False),col[i]])\n"
   ]
  },
  {
   "cell_type": "code",
   "execution_count": 135,
   "metadata": {},
   "outputs": [
    {
     "name": "stdout",
     "output_type": "stream",
     "text": [
      "Ni\n"
     ]
    }
   ],
   "source": [
    "ttest_sorted=sorted(ttest,key=lambda x:x[:][0][1])\n",
    "print(ttest_sorted[0][1])\n",
    "col1=ttest_sorted[0][1]\n",
    "col2=ttest_sorted[1][1]\n",
    "col3=ttest_sorted[2][1]\n",
    "col4=ttest_sorted[3][1]\n",
    "col5=ttest_sorted[4][1]"
   ]
  },
  {
   "cell_type": "code",
   "execution_count": 136,
   "metadata": {},
   "outputs": [
    {
     "name": "stdout",
     "output_type": "stream",
     "text": [
      "[Ttest_indResult(statistic=-4.3239107721456715, pvalue=0.0004492244407214775), 'Ni']\n",
      "[Ttest_indResult(statistic=3.0647129964127613, pvalue=0.005900861532428405), 'Fe']\n",
      "[Ttest_indResult(statistic=1.7983754067753106, pvalue=0.08525771622992465), 'Si']\n",
      "[Ttest_indResult(statistic=-1.2665396069981996, pvalue=0.22313289432374772), 'Cr']\n",
      "[Ttest_indResult(statistic=1.158782608176092, pvalue=0.2682608797840072), 'C']\n",
      "[Ttest_indResult(statistic=0.8022070813159011, pvalue=0.43065130815498376), 'Mn']\n",
      "[Ttest_indResult(statistic=-0.70260293686923, pvalue=0.490431149814897), 'N']\n"
     ]
    }
   ],
   "source": [
    "for i in range (0,len(ttest_sorted)):\n",
    "    print(ttest_sorted[i][0:3])"
   ]
  },
  {
   "cell_type": "code",
   "execution_count": 121,
   "metadata": {},
   "outputs": [],
   "source": [
    "train_set_0=train_set[train_set['SFE']==0]\n",
    "train_set_1=train_set[train_set['SFE']==1]\n",
    "\n",
    "train_set_0=train_set_0.reset_index(drop=True)\n",
    "train_set_1=train_set_1.reset_index(drop=True)\n",
    "\n",
    "smean1=np.array([float(train_set_0.mean(0)[col1]),float(train_set_0.mean(0)[col2])])\n",
    "smean2=np.array([float(train_set_1.mean(0)[col1]),float(train_set_1.mean(0)[col2])])\n",
    "cov=train_set.cov()\n",
    "#import pdb; pdb.set_trace()\n",
    "\n",
    "scov=np.zeros((2,2))\n",
    "scov=[[float(cov[col1][col1]),float(cov[col1][col2])],[float(cov[col2][col1]),float(cov[col2][col2])]]\n",
    "scov_inv=np.linalg.inv(scov)\n",
    "a_lda=scov_inv.dot((smean2-smean1))\n",
    "b_lda=-0.5*((smean2-smean1).dot(scov_inv)).dot((smean1+smean2))\n",
    "x1_lda=np.linspace(0,30,num=20)\n",
    "y_lda=-a_lda[0]/a_lda[1]*x1_lda-b_lda/a_lda[1]"
   ]
  },
  {
   "cell_type": "code",
   "execution_count": 74,
   "metadata": {},
   "outputs": [
    {
     "data": {
      "image/png": "[encoded data removed]",
      "text/plain": [
       "<Figure size 360x360 with 1 Axes>"
      ]
     },
     "metadata": {},
     "output_type": "display_data"
    }
   ],
   "source": [
    "fig, ax = plt.subplots(figsize=[5,5])\n",
    "plt.scatter(train_set_0[col1],train_set_0[col2],marker='x',label='Class 0')\n",
    "plt.scatter(train_set_1[col1],train_set_1[col2],marker='o',label='Class 1')\n",
    "plt.plot(x1_lda,y_lda,label='LDA decision boundary')\n",
    "plt.title('LDA based on :'+ col1 +' and '+ col2)\n",
    "plt.ylabel(col1)\n",
    "plt.xlabel(col2)\n",
    "fig.tight_layout()\n",
    "ax.legend()\n",
    "plt.grid(True)\n",
    "plt.show\n",
    "fig.savefig('hw2c.png')"
   ]
  },
  {
   "cell_type": "code",
   "execution_count": 122,
   "metadata": {},
   "outputs": [
    {
     "name": "stdout",
     "output_type": "stream",
     "text": [
      "0.49504950495049505\n"
     ]
    }
   ],
   "source": [
    "#estimating error on test set\n",
    "test_set_0=test_set[test_set['SFE']==0]\n",
    "test_set_1=test_set[test_set['SFE']==1]\n",
    "\n",
    "test_set_0=test_set_0.reset_index(drop=True)\n",
    "test_set_1=test_set_1.reset_index(drop=True)\n",
    "\n",
    "errtest_set_0=np.zeros((len(test_set_0),2))\n",
    "errtest_set_1=np.zeros((len(test_set_1),2))\n",
    "for i in range (0,len(test_set_0)):\n",
    "    errtest_set_0[i][0]=test_set_0[col1][i]\n",
    "    errtest_set_0[i][1]=test_set_0[col2][i]\n",
    "for i in range (0,len(test_set_1)):\n",
    "    errtest_set_1[i][0]=test_set_0[col1][i]\n",
    "    errtest_set_1[i][1]=test_set_0[col2][i]\n",
    "    #[test_set[test_set['SFE']==0][col1],test_set[test_set['SFE']==0][col2]]\n",
    "    #test_set_1[i]=[test_set[test_set['SFE']==1][col1],test_set[test_set['SFE']==1][col2]]\n",
    "#import pdb; pdb.set_trace()\n",
    "\n",
    "\n",
    "err1=0\n",
    "TP=0\n",
    "FP=0\n",
    "TN=0\n",
    "FN=0\n",
    "g1=0\n",
    "g2=0\n",
    "for i in range(0,len(errtest_set_0)):\n",
    "    g1=a_lda.dot(errtest_set_0[i])+b_lda\n",
    "    if (g1>0):\n",
    "        err1+=1\n",
    "        FN+=1\n",
    "    if (g1<=0):\n",
    "        TN+=1        \n",
    "err2=0\n",
    "for i in range(0,len(errtest_set_1)):\n",
    "    g2=a_lda.dot(errtest_set_1[i])+b_lda\n",
    "    if (g2<=0):\n",
    "        err2+=1\n",
    "        FP+=1\n",
    "        \n",
    "    if (g2>0):\n",
    "        TP+=1\n",
    "err=(err1+err2)/(len(errtest_set_0)+len(errtest_set_1))\n",
    "conf_mat=np.array(([TP,FP],[FN,TN]))\n",
    "print(err)"
   ]
  },
  {
   "cell_type": "code",
   "execution_count": 105,
   "metadata": {},
   "outputs": [
    {
     "name": "stdout",
     "output_type": "stream",
     "text": [
      "[[ 4 46]\n",
      " [ 4 47]]\n"
     ]
    }
   ],
   "source": [
    "err\n",
    "print(conf_mat)"
   ]
  },
  {
   "cell_type": "code",
   "execution_count": 107,
   "metadata": {},
   "outputs": [
    {
     "data": {
      "text/html": [
       "<div>\n",
       "<style scoped>\n",
       "    .dataframe tbody tr th:only-of-type {\n",
       "        vertical-align: middle;\n",
       "    }\n",
       "\n",
       "    .dataframe tbody tr th {\n",
       "        vertical-align: top;\n",
       "    }\n",
       "\n",
       "    .dataframe thead th {\n",
       "        text-align: right;\n",
       "    }\n",
       "</style>\n",
       "<table border=\"1\" class=\"dataframe\">\n",
       "  <thead>\n",
       "    <tr style=\"text-align: right;\">\n",
       "      <th></th>\n",
       "      <th>Actual 1</th>\n",
       "      <th>Actual 0</th>\n",
       "    </tr>\n",
       "  </thead>\n",
       "  <tbody>\n",
       "    <tr>\n",
       "      <th>Predicted 1</th>\n",
       "      <td>4</td>\n",
       "      <td>46</td>\n",
       "    </tr>\n",
       "    <tr>\n",
       "      <th>Predicted 0</th>\n",
       "      <td>4</td>\n",
       "      <td>47</td>\n",
       "    </tr>\n",
       "  </tbody>\n",
       "</table>\n",
       "</div>"
      ],
      "text/plain": [
       "              Actual 1  Actual 0\n",
       " Predicted 1         4        46\n",
       "Predicted 0          4        47"
      ]
     },
     "execution_count": 107,
     "metadata": {},
     "output_type": "execute_result"
    }
   ],
   "source": [
    "pd.DataFrame(conf_mat,[' Predicted 1','Predicted 0'],['Actual 1','Actual 0'])"
   ]
  },
  {
   "cell_type": "code",
   "execution_count": 119,
   "metadata": {},
   "outputs": [],
   "source": [
    "#now repeat for the top 3,4 and 5 predictors\n",
    "#first we do top 3 predictors\n",
    "\n",
    "train_set_0=train_set[train_set['SFE']==0]\n",
    "train_set_1=train_set[train_set['SFE']==1]\n",
    "\n",
    "train_set_0=train_set_0.reset_index(drop=True)\n",
    "train_set_1=train_set_1.reset_index(drop=True)\n",
    "\n",
    "#clean train set to only contain columns of our interest\n",
    "train_set_clean=train_set[[col1,col2,col3]]\n",
    "train_set_0_clean=train_set_0[[col1,col2,col3]]\n",
    "train_set_1_clean=train_set_1[[col1,col2,col3]]\n",
    "\n",
    "\n",
    "smean1=np.array(train_set_0_clean.mean(0))\n",
    "smean2=np.array(train_set_1_clean.mean(0))\n",
    "cov=train_set_clean.cov()\n",
    "#import pdb; pdb.set_trace()\n",
    "cov_inv=np.linalg.inv(cov)\n",
    "a_lda=cov_inv.dot((smean2-smean1))\n",
    "b_lda=-0.5*((smean2-smean1).dot(cov_inv)).dot((smean1+smean2))\n",
    "x1_lda=np.linspace(0,40,num=20)\n",
    "y_lda=-a_lda[0]/a_lda[1]*x1_lda-b_lda/a_lda[1]"
   ]
  },
  {
   "cell_type": "code",
   "execution_count": 120,
   "metadata": {},
   "outputs": [
    {
     "name": "stdout",
     "output_type": "stream",
     "text": [
      "0.12871287128712872\n"
     ]
    }
   ],
   "source": [
    "#estimating error on test set\n",
    "test_set_0=test_set[test_set['SFE']==0]\n",
    "test_set_1=test_set[test_set['SFE']==1]\n",
    "\n",
    "test_set_0=test_set_0.reset_index(drop=True)\n",
    "test_set_1=test_set_1.reset_index(drop=True)\n",
    "\n",
    "#consider only predictors of our importance\n",
    "test_set_clean=test_set[[col1,col2,col3]]\n",
    "test_set_0_clean=test_set_0[[col1,col2,col3]]\n",
    "test_set_1_clean=test_set_1[[col1,col2,col3]]\n",
    "\n",
    "errtest_set_0=np.array(test_set_0_clean)\n",
    "errtest_set_1=np.array(test_set_1_clean)\n",
    "\n",
    "\n",
    "\n",
    "#import pdb; pdb.set_trace()\n",
    "err1=0\n",
    "TP=0\n",
    "FP=0\n",
    "TN=0\n",
    "FN=0\n",
    "g1=0\n",
    "g2=0\n",
    "for i in range(0,len(errtest_set_0)):\n",
    "    g1=a_lda.dot(errtest_set_0[i])+b_lda\n",
    "    if (g1>0):\n",
    "        err1+=1\n",
    "        FN+=1\n",
    "    if (g1<=0):\n",
    "        TN+=1        \n",
    "err2=0\n",
    "for i in range(0,len(errtest_set_1)):\n",
    "    g2=a_lda.dot(errtest_set_1[i])+b_lda\n",
    "    if (g2<=0):\n",
    "        err2+=1\n",
    "        FP+=1\n",
    "        \n",
    "    if (g2>0):\n",
    "        TP+=1\n",
    "err=(err1+err2)/(len(errtest_set_0)+len(errtest_set_1))\n",
    "print(err)\n",
    "conf_mat=np.array(([TP,FP],[FN,TN]))\n"
   ]
  },
  {
   "cell_type": "code",
   "execution_count": 110,
   "metadata": {},
   "outputs": [
    {
     "data": {
      "text/html": [
       "<div>\n",
       "<style scoped>\n",
       "    .dataframe tbody tr th:only-of-type {\n",
       "        vertical-align: middle;\n",
       "    }\n",
       "\n",
       "    .dataframe tbody tr th {\n",
       "        vertical-align: top;\n",
       "    }\n",
       "\n",
       "    .dataframe thead th {\n",
       "        text-align: right;\n",
       "    }\n",
       "</style>\n",
       "<table border=\"1\" class=\"dataframe\">\n",
       "  <thead>\n",
       "    <tr style=\"text-align: right;\">\n",
       "      <th></th>\n",
       "      <th>Actual 1</th>\n",
       "      <th>Actual 0</th>\n",
       "    </tr>\n",
       "  </thead>\n",
       "  <tbody>\n",
       "    <tr>\n",
       "      <th>Predicted 1</th>\n",
       "      <td>40</td>\n",
       "      <td>10</td>\n",
       "    </tr>\n",
       "    <tr>\n",
       "      <th>Predicted 0</th>\n",
       "      <td>3</td>\n",
       "      <td>48</td>\n",
       "    </tr>\n",
       "  </tbody>\n",
       "</table>\n",
       "</div>"
      ],
      "text/plain": [
       "              Actual 1  Actual 0\n",
       " Predicted 1        40        10\n",
       "Predicted 0          3        48"
      ]
     },
     "execution_count": 110,
     "metadata": {},
     "output_type": "execute_result"
    }
   ],
   "source": [
    "pd.DataFrame(conf_mat,[' Predicted 1','Predicted 0'],['Actual 1','Actual 0'])"
   ]
  },
  {
   "cell_type": "code",
   "execution_count": 117,
   "metadata": {},
   "outputs": [],
   "source": [
    "#now we do for top 4 predictors\n",
    "\n",
    "train_set_0=train_set[train_set['SFE']==0]\n",
    "train_set_1=train_set[train_set['SFE']==1]\n",
    "\n",
    "train_set_0=train_set_0.reset_index(drop=True)\n",
    "train_set_1=train_set_1.reset_index(drop=True)\n",
    "\n",
    "#clean train set to only contain columns of our interest\n",
    "train_set_clean=train_set[[col1,col2,col3,col4]]\n",
    "train_set_0_clean=train_set_0[[col1,col2,col3,col4]]\n",
    "train_set_1_clean=train_set_1[[col1,col2,col3,col4]]\n",
    "\n",
    "\n",
    "smean1=np.array(train_set_0_clean.mean(0))\n",
    "smean2=np.array(train_set_1_clean.mean(0))\n",
    "cov=train_set_clean.cov()\n",
    "#import pdb; pdb.set_trace()\n",
    "cov_inv=np.linalg.inv(cov)\n",
    "a_lda=cov_inv.dot((smean2-smean1))\n",
    "b_lda=-0.5*((smean2-smean1).dot(cov_inv)).dot((smean1+smean2))\n",
    "x1_lda=np.linspace(0,40,num=20)\n",
    "y_lda=-a_lda[0]/a_lda[1]*x1_lda-b_lda/a_lda[1]"
   ]
  },
  {
   "cell_type": "code",
   "execution_count": null,
   "metadata": {},
   "outputs": [],
   "source": []
  },
  {
   "cell_type": "code",
   "execution_count": 118,
   "metadata": {},
   "outputs": [
    {
     "name": "stdout",
     "output_type": "stream",
     "text": [
      "0.0891089108910891\n"
     ]
    }
   ],
   "source": [
    "#estimating error on test set\n",
    "test_set_0=test_set[test_set['SFE']==0]\n",
    "test_set_1=test_set[test_set['SFE']==1]\n",
    "\n",
    "test_set_0=test_set_0.reset_index(drop=True)\n",
    "test_set_1=test_set_1.reset_index(drop=True)\n",
    "\n",
    "#consider only predictors of our importance\n",
    "test_set_clean=test_set[[col1,col2,col3,col4]]\n",
    "test_set_0_clean=test_set_0[[col1,col2,col3,col4]]\n",
    "test_set_1_clean=test_set_1[[col1,col2,col3,col4]]\n",
    "\n",
    "errtest_set_0=np.array(test_set_0_clean)\n",
    "errtest_set_1=np.array(test_set_1_clean)\n",
    "\n",
    "\n",
    "\n",
    "#import pdb; pdb.set_trace()\n",
    "err1=0\n",
    "TP=0\n",
    "FP=0\n",
    "TN=0\n",
    "FN=0\n",
    "g1=0\n",
    "g2=0\n",
    "for i in range(0,len(errtest_set_0)):\n",
    "    g1=a_lda.dot(errtest_set_0[i])+b_lda\n",
    "    if (g1>0):\n",
    "        err1+=1\n",
    "        FN+=1\n",
    "    if (g1<=0):\n",
    "        TN+=1        \n",
    "err2=0\n",
    "for i in range(0,len(errtest_set_1)):\n",
    "    g2=a_lda.dot(errtest_set_1[i])+b_lda\n",
    "    if (g2<=0):\n",
    "        err2+=1\n",
    "        FP+=1\n",
    "        \n",
    "    if (g2>0):\n",
    "        TP+=1\n",
    "err=(err1+err2)/(len(errtest_set_0)+len(errtest_set_1))\n",
    "conf_mat=np.array(([TP,FP],[FN,TN]))\n",
    "print(err)"
   ]
  },
  {
   "cell_type": "code",
   "execution_count": 113,
   "metadata": {},
   "outputs": [
    {
     "data": {
      "text/html": [
       "<div>\n",
       "<style scoped>\n",
       "    .dataframe tbody tr th:only-of-type {\n",
       "        vertical-align: middle;\n",
       "    }\n",
       "\n",
       "    .dataframe tbody tr th {\n",
       "        vertical-align: top;\n",
       "    }\n",
       "\n",
       "    .dataframe thead th {\n",
       "        text-align: right;\n",
       "    }\n",
       "</style>\n",
       "<table border=\"1\" class=\"dataframe\">\n",
       "  <thead>\n",
       "    <tr style=\"text-align: right;\">\n",
       "      <th></th>\n",
       "      <th>Actual 1</th>\n",
       "      <th>Actual 0</th>\n",
       "    </tr>\n",
       "  </thead>\n",
       "  <tbody>\n",
       "    <tr>\n",
       "      <th>Predicted 1</th>\n",
       "      <td>44</td>\n",
       "      <td>6</td>\n",
       "    </tr>\n",
       "    <tr>\n",
       "      <th>Predicted 0</th>\n",
       "      <td>3</td>\n",
       "      <td>48</td>\n",
       "    </tr>\n",
       "  </tbody>\n",
       "</table>\n",
       "</div>"
      ],
      "text/plain": [
       "              Actual 1  Actual 0\n",
       " Predicted 1        44         6\n",
       "Predicted 0          3        48"
      ]
     },
     "execution_count": 113,
     "metadata": {},
     "output_type": "execute_result"
    }
   ],
   "source": [
    "pd.DataFrame(conf_mat,[' Predicted 1','Predicted 0'],['Actual 1','Actual 0'])"
   ]
  },
  {
   "cell_type": "code",
   "execution_count": 114,
   "metadata": {},
   "outputs": [],
   "source": [
    "#now we do for top 5 predictors\n",
    "\n",
    "train_set_0=train_set[train_set['SFE']==0]\n",
    "train_set_1=train_set[train_set['SFE']==1]\n",
    "\n",
    "train_set_0=train_set_0.reset_index(drop=True)\n",
    "train_set_1=train_set_1.reset_index(drop=True)\n",
    "\n",
    "#clean train set to only contain columns of our interest\n",
    "train_set_clean=train_set[[col1,col2,col3,col4,col5]]\n",
    "train_set_0_clean=train_set_0[[col1,col2,col3,col4,col5]]\n",
    "train_set_1_clean=train_set_1[[col1,col2,col3,col4,col5]]\n",
    "\n",
    "\n",
    "smean1=np.array(train_set_0_clean.mean(0))\n",
    "smean2=np.array(train_set_1_clean.mean(0))\n",
    "cov=train_set_clean.cov()\n",
    "#import pdb; pdb.set_trace()\n",
    "cov_inv=np.linalg.inv(cov)\n",
    "a_lda=cov_inv.dot((smean2-smean1))\n",
    "b_lda=-0.5*((smean2-smean1).dot(cov_inv)).dot((smean1+smean2))\n",
    "x1_lda=np.linspace(0,40,num=20)\n",
    "y_lda=-a_lda[0]/a_lda[1]*x1_lda-b_lda/a_lda[1]"
   ]
  },
  {
   "cell_type": "code",
   "execution_count": 115,
   "metadata": {},
   "outputs": [
    {
     "name": "stdout",
     "output_type": "stream",
     "text": [
      "0.07920792079207921\n"
     ]
    }
   ],
   "source": [
    "#estimating error on test set\n",
    "test_set_0=test_set[test_set['SFE']==0]\n",
    "test_set_1=test_set[test_set['SFE']==1]\n",
    "\n",
    "test_set_0=test_set_0.reset_index(drop=True)\n",
    "test_set_1=test_set_1.reset_index(drop=True)\n",
    "\n",
    "#consider only predictors of our importance\n",
    "test_set_clean=test_set[[col1,col2,col3,col4,col5]]\n",
    "test_set_0_clean=test_set_0[[col1,col2,col3,col4,col5]]\n",
    "test_set_1_clean=test_set_1[[col1,col2,col3,col4,col5]]\n",
    "\n",
    "errtest_set_0=np.array(test_set_0_clean)\n",
    "errtest_set_1=np.array(test_set_1_clean)\n",
    "\n",
    "\n",
    "\n",
    "#import pdb; pdb.set_trace()\n",
    "err1=0\n",
    "TP=0\n",
    "FP=0\n",
    "TN=0\n",
    "FN=0\n",
    "g1=0\n",
    "g2=0\n",
    "for i in range(0,len(errtest_set_0)):\n",
    "    g1=a_lda.dot(errtest_set_0[i])+b_lda\n",
    "    if (g1>0):\n",
    "        err1+=1\n",
    "        FN+=1\n",
    "    if (g1<=0):\n",
    "        TN+=1        \n",
    "err2=0\n",
    "for i in range(0,len(errtest_set_1)):\n",
    "    g2=a_lda.dot(errtest_set_1[i])+b_lda\n",
    "    if (g2<=0):\n",
    "        err2+=1\n",
    "        FP+=1\n",
    "        \n",
    "    if (g2>0):\n",
    "        TP+=1\n",
    "err=(err1+err2)/(len(errtest_set_0)+len(errtest_set_1))\n",
    "conf_mat=np.array(([TP,FP],[FN,TN]))\n",
    "print(err)"
   ]
  },
  {
   "cell_type": "code",
   "execution_count": 116,
   "metadata": {},
   "outputs": [
    {
     "data": {
      "text/html": [
       "<div>\n",
       "<style scoped>\n",
       "    .dataframe tbody tr th:only-of-type {\n",
       "        vertical-align: middle;\n",
       "    }\n",
       "\n",
       "    .dataframe tbody tr th {\n",
       "        vertical-align: top;\n",
       "    }\n",
       "\n",
       "    .dataframe thead th {\n",
       "        text-align: right;\n",
       "    }\n",
       "</style>\n",
       "<table border=\"1\" class=\"dataframe\">\n",
       "  <thead>\n",
       "    <tr style=\"text-align: right;\">\n",
       "      <th></th>\n",
       "      <th>Actual 1</th>\n",
       "      <th>Actual 0</th>\n",
       "    </tr>\n",
       "  </thead>\n",
       "  <tbody>\n",
       "    <tr>\n",
       "      <th>Predicted 1</th>\n",
       "      <td>45</td>\n",
       "      <td>5</td>\n",
       "    </tr>\n",
       "    <tr>\n",
       "      <th>Predicted 0</th>\n",
       "      <td>3</td>\n",
       "      <td>48</td>\n",
       "    </tr>\n",
       "  </tbody>\n",
       "</table>\n",
       "</div>"
      ],
      "text/plain": [
       "              Actual 1  Actual 0\n",
       " Predicted 1        45         5\n",
       "Predicted 0          3        48"
      ]
     },
     "execution_count": 116,
     "metadata": {},
     "output_type": "execute_result"
    }
   ],
   "source": [
    "pd.DataFrame(conf_mat,[' Predicted 1','Predicted 0'],['Actual 1','Actual 0'])"
   ]
  }
 ],
 "metadata": {
  "kernelspec": {
   "display_name": "Python 3",
   "language": "python",
   "name": "python3"
  },
  "language_info": {
   "codemirror_mode": {
    "name": "ipython",
    "version": 3
   },
   "file_extension": ".py",
   "mimetype": "text/x-python",
   "name": "python",
   "nbconvert_exporter": "python",
   "pygments_lexer": "ipython3",
   "version": "3.6.5"
  }
 },
 "nbformat": 4,
 "nbformat_minor": 2
}
